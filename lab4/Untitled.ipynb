{
 "cells": [
  {
   "cell_type": "code",
   "execution_count": 7,
   "metadata": {
    "collapsed": true
   },
   "outputs": [],
   "source": [
    "## imports \n",
    "%matplotlib inline\n",
    "import numpy as np\n",
    "import pandas as pd\n",
    "import seaborn as sns\n",
    "\n",
    "import matplotlib.pyplot as plt\n",
    "\n"
   ]
  },
  {
   "cell_type": "code",
   "execution_count": 8,
   "metadata": {
    "collapsed": false
   },
   "outputs": [],
   "source": [
    "# Let's define a generic bandit class\n",
    "\n",
    "\n",
    "\n",
    "    \n",
    "n_trials = 1000\n",
    "t_max = 500"
   ]
  },
  {
   "cell_type": "code",
   "execution_count": 10,
   "metadata": {
    "collapsed": false
   },
   "outputs": [
    {
     "ename": "SyntaxError",
     "evalue": "invalid syntax (<ipython-input-10-44e26453feda>, line 23)",
     "output_type": "error",
     "traceback": [
      "\u001b[0;36m  File \u001b[0;32m\"<ipython-input-10-44e26453feda>\"\u001b[0;36m, line \u001b[0;32m23\u001b[0m\n\u001b[0;31m    return np.array(self.v_value.mean()\u001b[0m\n\u001b[0m                                       ^\u001b[0m\n\u001b[0;31mSyntaxError\u001b[0m\u001b[0;31m:\u001b[0m invalid syntax\n"
     ]
    }
   ],
   "source": [
    "class Bandit(object):\n",
    "    def __init__(self,n_actions):\n",
    "        self.counts = np.zeros(n_actions)\n",
    "        self.action_rewards = [[] for i in range(n_actions)]\n",
    "        self.rewards = []\n",
    "        self.n_actions = n_actions\n",
    "    def select_action(self):\n",
    "        \"\"\"Selection which arm/action to pull\"\"\"\n",
    "        pass\n",
    "    \n",
    "    def update(self,action,reward):\n",
    "        \"\"\"Update the actions\"\"\"\n",
    "        self.counts[action] = self.counts[action] + 1\n",
    "        self.action_rewards[action].append(reward)\n",
    "        self.rewards.append(reward)\n",
    "    def get_Q_values(self):\n",
    "        Q_values = []\n",
    "        for q_v in self.action_rewards:\n",
    "            Q_values.append(np.array(q_v).mean())\n",
    "        return np.array(Q_values)\n",
    "    def get_V_value(self):\n",
    "        \n",
    "        return np.array(self.v_value.mean()"
   ]
  },
  {
   "cell_type": "code",
   "execution_count": null,
   "metadata": {
    "collapsed": true
   },
   "outputs": [],
   "source": []
  },
  {
   "cell_type": "code",
   "execution_count": 6,
   "metadata": {
    "collapsed": false
   },
   "outputs": [
    {
     "ename": "NameError",
     "evalue": "name 'n_trials' is not defined",
     "output_type": "error",
     "traceback": [
      "\u001b[0;31m---------------------------------------------------------------------------\u001b[0m",
      "\u001b[0;31mNameError\u001b[0m                                 Traceback (most recent call last)",
      "\u001b[0;32m<ipython-input-6-f25264ef7b1b>\u001b[0m in \u001b[0;36m<module>\u001b[0;34m()\u001b[0m\n\u001b[1;32m     16\u001b[0m \u001b[0;34m\u001b[0m\u001b[0m\n\u001b[1;32m     17\u001b[0m \u001b[0;34m\u001b[0m\u001b[0m\n\u001b[0;32m---> 18\u001b[0;31m     \u001b[0;32mfor\u001b[0m \u001b[0mtrial\u001b[0m \u001b[0;32min\u001b[0m \u001b[0;34m(\u001b[0m\u001b[0mrange\u001b[0m\u001b[0;34m(\u001b[0m\u001b[0mn_trials\u001b[0m\u001b[0;34m)\u001b[0m\u001b[0;34m)\u001b[0m\u001b[0;34m:\u001b[0m\u001b[0;34m\u001b[0m\u001b[0m\n\u001b[0m\u001b[1;32m     19\u001b[0m         \u001b[0mgaps\u001b[0m \u001b[0;34m=\u001b[0m \u001b[0;34m[\u001b[0m\u001b[0;34m]\u001b[0m\u001b[0;34m\u001b[0m\u001b[0m\n\u001b[1;32m     20\u001b[0m         \u001b[0mbandit\u001b[0m \u001b[0;34m=\u001b[0m \u001b[0mb\u001b[0m\u001b[0;34m[\u001b[0m\u001b[0;36m1\u001b[0m\u001b[0;34m]\u001b[0m\u001b[0;34m(\u001b[0m\u001b[0;34m)\u001b[0m\u001b[0;34m\u001b[0m\u001b[0m\n",
      "\u001b[0;31mNameError\u001b[0m: name 'n_trials' is not defined"
     ]
    }
   ],
   "source": [
    "data = []\n",
    "\n",
    "bandits = [(\"random\",  lambda: Egreedy(epsilon = 1.0, n_actions = n_actions)),\n",
    "           (\"greedy\",  lambda: Egreedy(epsilon = 0.0, n_actions = n_actions)),\n",
    "           (\"0.2-greedy\",  lambda: Egreedy(epsilon = 0.2, n_actions = n_actions)),\n",
    "           (\"0.2-decreasing\",  lambda: Egreedy(epsilon = 0.2, n_actions = n_actions)),\n",
    "           (\"UCB\", lambda: UCB( n_actions = n_actions)),\n",
    "           (\"BootstrapTS\",  lambda: BootstrapThompson( n_actions = n_actions)),\n",
    "          \n",
    "          ]\n",
    "\n",
    "for b in bandits:\n",
    "\n",
    "    columns =[\"Step\", \"Cumulative Regret\", \"trial\", \"Algorithm\"]\n",
    "    df = pd.DataFrame()\n",
    "\n",
    "   \n",
    "    for trial in (range(n_trials)):\n",
    "        gaps = []\n",
    "        bandit = b[1]()\n",
    "       \n",
    "        for i in range(t_max):\n",
    "            # select action\n",
    "            action = bandit.select_action()\n",
    "            # get the reward\n",
    "            reward = rewards[action]()\n",
    "            # update the \n",
    "            bandit.update(action, reward)\n",
    "            # Super hack for the lazy\n",
    "            if(b[0].endswith(\"decreasing\")):\n",
    "                #print \"decreasing\"\n",
    "                bandit.epsilon*=0.99\n",
    "               \n",
    "            gaps.append(0.6 - reward)\n",
    "            regret = np.array(gaps).sum()\n",
    "            data.append([i,regret,trial, b[0]])\n",
    "            #print df.head()\n",
    "        #print trial\n",
    "    df = df.append(data)\n",
    "    df.columns = columns\n",
    "    df.head()\n",
    "    plt.figure(figsize=(10, 5))\n",
    "\n",
    "    axes = sns.tsplot(time=\"Step\", value=\"Cumulative Regret\",\n",
    "                     unit=\"trial\", condition=\"Algorithm\",data=df)\n",
    "\n",
    "\n",
    "    axes.set_ylim([0,40])\n",
    "\n",
    "    plt.savefig(b[0] + \".pdf\",bbox_inches='tight')"
   ]
  },
  {
   "cell_type": "code",
   "execution_count": null,
   "metadata": {
    "collapsed": true
   },
   "outputs": [],
   "source": []
  }
 ],
 "metadata": {
  "kernelspec": {
   "display_name": "Python 2",
   "language": "python",
   "name": "python2"
  },
  "language_info": {
   "codemirror_mode": {
    "name": "ipython",
    "version": 2
   },
   "file_extension": ".py",
   "mimetype": "text/x-python",
   "name": "python",
   "nbconvert_exporter": "python",
   "pygments_lexer": "ipython2",
   "version": "2.7.12"
  }
 },
 "nbformat": 4,
 "nbformat_minor": 2
}
