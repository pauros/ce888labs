{
 "cells": [
  {
   "cell_type": "code",
   "execution_count": null,
   "metadata": {
    "collapsed": true
   },
   "outputs": [],
   "source": [
    "import pandas as pd \n",
    "import numpy as np\n",
    "from Ipython.display import image\n",
    "np.set_printoptions(precision = 3)"
   ]
  },
  {
   "cell_type": "code",
   "execution_count": null,
   "metadata": {
    "collapsed": true
   },
   "outputs": [],
   "source": [
    "import sys\n",
    "import os\n",
    "import csv\n",
    "\n",
    "def main():\n",
    "pass\n",
    "\n",
    "\n",
    "def openCSVFile(, openMode):\n",
    "with open(CSVFile, openMode) as csvfile:\n",
    "    zipreader = csv.reader(csvfile, delimiter=',')\n",
    "return zipreader\n",
    "\n",
    "if __name__ == '__main__':\n",
    "\n",
    "    zipfile = openCSVFile('propertyOutput.csv','rb')\n",
    "    numRows = sum(1 for row in zipfile)\n",
    "    print\"Rows equals %d.\" % numRows"
   ]
  }
 ],
 "metadata": {
  "kernelspec": {
   "display_name": "Python 2",
   "language": "python",
   "name": "python2"
  },
  "language_info": {
   "codemirror_mode": {
    "name": "ipython",
    "version": 2
   },
   "file_extension": ".py",
   "mimetype": "text/x-python",
   "name": "python",
   "nbconvert_exporter": "python",
   "pygments_lexer": "ipython2",
   "version": "2.7.12"
  }
 },
 "nbformat": 4,
 "nbformat_minor": 2
}
